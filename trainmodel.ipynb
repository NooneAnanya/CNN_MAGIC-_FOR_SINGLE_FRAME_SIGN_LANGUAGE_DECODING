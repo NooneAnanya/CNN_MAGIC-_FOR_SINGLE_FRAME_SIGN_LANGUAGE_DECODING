{
  "cells": [
    {
      "cell_type": "code",
      "execution_count": 11,
      "metadata": {
        "colab": {
          "base_uri": "https://localhost:8080/"
        },
        "id": "4CbV-qjyl36j",
        "outputId": "5b6e5e2e-9203-467e-c429-5d798a6885e5"
      },
      "outputs": [
        {
          "name": "stderr",
          "output_type": "stream",
          "text": [
            "fatal: destination path 'aslsigndataset' already exists and is not an empty directory.\n"
          ]
        }
      ],
      "source": [
        "!git clone https://github.com/kumarvivek9088/aslsigndataset.git"
      ]
    },
    {
      "cell_type": "code",
      "execution_count": 12,
      "metadata": {
        "id": "LGh7liGOmlns"
      },
      "outputs": [],
      "source": [
        "from keras.utils import to_categorical\n",
        "from keras.models import Sequential\n",
        "from keras.layers import Dense, Conv2D, Dropout, Flatten, MaxPooling2D\n",
        "from keras.preprocessing.image import ImageDataGenerator\n",
        "from keras.callbacks import TensorBoard\n",
        "from PIL import Image\n",
        "import os\n",
        "import scipy\n",
        "import scipy.ndimage\n",
        "\n"
      ]
    },
    {
      "cell_type": "code",
      "execution_count": 13,
      "metadata": {
        "colab": {
          "base_uri": "https://localhost:8080/"
        },
        "id": "eWFUWHDxm2B_",
        "outputId": "c75dcafd-2ff9-4e8c-8449-71a2e907a2fe"
      },
      "outputs": [
        {
          "name": "stdout",
          "output_type": "stream",
          "text": [
            "Found 1819 images belonging to 7 classes.\n",
            "Found 583 images belonging to 7 classes.\n"
          ]
        }
      ],
      "source": [
        "train_datagen = ImageDataGenerator(\n",
        "    rescale=1./255,\n",
        ")\n",
        "\n",
        "val_datagen = ImageDataGenerator(rescale=1./255)\n",
        "\n",
        "batch_size = 48\n",
        "\n",
        "train_generator = train_datagen.flow_from_directory(\n",
        "    'D:/SLD/splitdataset48x48/train',\n",
        "    target_size=(48, 48),\n",
        "    batch_size=batch_size,\n",
        "    class_mode='categorical',\n",
        "    color_mode='grayscale'\n",
        ")\n",
        "\n",
        "validation_generator = val_datagen.flow_from_directory(\n",
        "    'D:/SLD/splitdataset48x48/val',\n",
        "    target_size=(48, 48),\n",
        "    batch_size=batch_size,\n",
        "    class_mode='categorical',\n",
        "    color_mode='grayscale'\n",
        ")"
      ]
    },
    {
      "cell_type": "code",
      "execution_count": 14,
      "metadata": {
        "colab": {
          "base_uri": "https://localhost:8080/"
        },
        "id": "1wDg2UHfGsDR",
        "outputId": "4128a5df-1c86-42af-a73e-896d90f70838"
      },
      "outputs": [
        {
          "name": "stdout",
          "output_type": "stream",
          "text": [
            "['BLESS', 'HELLO', 'I_LOVE_YOU', 'NO', 'OKAY', 'YES', 'blank']\n"
          ]
        }
      ],
      "source": [
        "class_names = list(train_generator.class_indices.keys())\n",
        "print(class_names)"
      ]
    },
    {
      "cell_type": "code",
      "execution_count": 22,
      "metadata": {
        "id": "T5BwxoqfneMe"
      },
      "outputs": [],
      "source": [
        "model = Sequential()\n",
        "# convolutional layers\n",
        "model.add(Conv2D(128, kernel_size=(3,3), activation='relu', input_shape=(48,48,1)))\n",
        "model.add(MaxPooling2D(pool_size=(2,2)))\n",
        "model.add(Dropout(0.4))\n",
        "\n",
        "model.add(Conv2D(256, kernel_size=(3,3), activation='relu'))\n",
        "model.add(MaxPooling2D(pool_size=(2,2)))\n",
        "model.add(Dropout(0.4))\n",
        "\n",
        "model.add(Conv2D(512, kernel_size=(3,3), activation='relu'))\n",
        "model.add(MaxPooling2D(pool_size=(2,2)))\n",
        "model.add(Dropout(0.4))\n",
        "\n",
        "model.add(Conv2D(512, kernel_size=(3,3), activation='relu'))\n",
        "model.add(MaxPooling2D(pool_size=(2,2)))\n",
        "model.add(Dropout(0.4))\n",
        "\n",
        "model.add(Flatten())\n",
        "# fully connected layers\n",
        "model.add(Dense(512, activation='relu'))\n",
        "model.add(Dropout(0.4))\n",
        "model.add(Dense(64, activation='relu'))\n",
        "model.add(Dropout(0.2))\n",
        "model.add(Dense(256, activation='relu'))\n",
        "model.add(Dropout(0.3))\n",
        "model.add(Dense(64, activation='relu'))\n",
        "model.add(Dropout(0.2))\n",
        "model.add(Dense(256, activation='relu'))\n",
        "model.add(Dropout(0.3))\n",
        "# output layer\n",
        "model.add(Dense(7, activation='softmax'))"
      ]
    },
    {
      "cell_type": "code",
      "execution_count": 23,
      "metadata": {
        "colab": {
          "base_uri": "https://localhost:8080/"
        },
        "id": "hRKSqZLGnkEH",
        "outputId": "400cf464-e0c6-4338-b9df-2055d8a57c59"
      },
      "outputs": [
        {
          "name": "stdout",
          "output_type": "stream",
          "text": [
            "Model: \"sequential_2\"\n",
            "_________________________________________________________________\n",
            " Layer (type)                Output Shape              Param #   \n",
            "=================================================================\n",
            " conv2d_8 (Conv2D)           (None, 46, 46, 128)       1280      \n",
            "                                                                 \n",
            " max_pooling2d_8 (MaxPoolin  (None, 23, 23, 128)       0         \n",
            " g2D)                                                            \n",
            "                                                                 \n",
            " dropout_18 (Dropout)        (None, 23, 23, 128)       0         \n",
            "                                                                 \n",
            " conv2d_9 (Conv2D)           (None, 21, 21, 256)       295168    \n",
            "                                                                 \n",
            " max_pooling2d_9 (MaxPoolin  (None, 10, 10, 256)       0         \n",
            " g2D)                                                            \n",
            "                                                                 \n",
            " dropout_19 (Dropout)        (None, 10, 10, 256)       0         \n",
            "                                                                 \n",
            " conv2d_10 (Conv2D)          (None, 8, 8, 512)         1180160   \n",
            "                                                                 \n",
            " max_pooling2d_10 (MaxPooli  (None, 4, 4, 512)         0         \n",
            " ng2D)                                                           \n",
            "                                                                 \n",
            " dropout_20 (Dropout)        (None, 4, 4, 512)         0         \n",
            "                                                                 \n",
            " conv2d_11 (Conv2D)          (None, 2, 2, 512)         2359808   \n",
            "                                                                 \n",
            " max_pooling2d_11 (MaxPooli  (None, 1, 1, 512)         0         \n",
            " ng2D)                                                           \n",
            "                                                                 \n",
            " dropout_21 (Dropout)        (None, 1, 1, 512)         0         \n",
            "                                                                 \n",
            " flatten_2 (Flatten)         (None, 512)               0         \n",
            "                                                                 \n",
            " dense_12 (Dense)            (None, 512)               262656    \n",
            "                                                                 \n",
            " dropout_22 (Dropout)        (None, 512)               0         \n",
            "                                                                 \n",
            " dense_13 (Dense)            (None, 64)                32832     \n",
            "                                                                 \n",
            " dropout_23 (Dropout)        (None, 64)                0         \n",
            "                                                                 \n",
            " dense_14 (Dense)            (None, 256)               16640     \n",
            "                                                                 \n",
            " dropout_24 (Dropout)        (None, 256)               0         \n",
            "                                                                 \n",
            " dense_15 (Dense)            (None, 64)                16448     \n",
            "                                                                 \n",
            " dropout_25 (Dropout)        (None, 64)                0         \n",
            "                                                                 \n",
            " dense_16 (Dense)            (None, 256)               16640     \n",
            "                                                                 \n",
            " dropout_26 (Dropout)        (None, 256)               0         \n",
            "                                                                 \n",
            " dense_17 (Dense)            (None, 7)                 1799      \n",
            "                                                                 \n",
            "=================================================================\n",
            "Total params: 4183431 (15.96 MB)\n",
            "Trainable params: 4183431 (15.96 MB)\n",
            "Non-trainable params: 0 (0.00 Byte)\n",
            "_________________________________________________________________\n"
          ]
        }
      ],
      "source": [
        "model.summary()"
      ]
    },
    {
      "cell_type": "code",
      "execution_count": 24,
      "metadata": {
        "id": "19iHtAUboNrv"
      },
      "outputs": [],
      "source": [
        "model.compile(optimizer = 'adam', loss = 'categorical_crossentropy', metrics = 'accuracy' )\n"
      ]
    },
    {
      "cell_type": "code",
      "execution_count": 25,
      "metadata": {
        "id": "SX-vo6cc2FG2"
      },
      "outputs": [
        {
          "name": "stderr",
          "output_type": "stream",
          "text": [
            "'rm' is not recognized as an internal or external command,\n",
            "operable program or batch file.\n"
          ]
        }
      ],
      "source": [
        "!rm -rf Logs\n",
        "logdir = os.path.join(\"Logs\")\n",
        "tensorboard_callback = TensorBoard(log_dir=logdir)"
      ]
    },
    {
      "cell_type": "code",
      "execution_count": 26,
      "metadata": {
        "colab": {
          "base_uri": "https://localhost:8080/",
          "height": 1000
        },
        "id": "9CCdQQyJnniR",
        "outputId": "931530f3-2d45-4b9d-a768-d2ccd0445066"
      },
      "outputs": [
        {
          "name": "stdout",
          "output_type": "stream",
          "text": [
            "Epoch 1/50\n",
            "37/37 [==============================] - 27s 668ms/step - loss: 1.9503 - accuracy: 0.1265 - val_loss: 1.9452 - val_accuracy: 0.1389\n",
            "Epoch 2/50\n",
            "37/37 [==============================] - 18s 484ms/step - loss: 1.9458 - accuracy: 0.1604 - val_loss: 1.9414 - val_accuracy: 0.1719\n",
            "Epoch 3/50\n",
            "37/37 [==============================] - 18s 484ms/step - loss: 1.8614 - accuracy: 0.1988 - val_loss: 1.7929 - val_accuracy: 0.2517\n",
            "Epoch 4/50\n",
            "37/37 [==============================] - 18s 478ms/step - loss: 1.7352 - accuracy: 0.2806 - val_loss: 1.7500 - val_accuracy: 0.2274\n",
            "Epoch 5/50\n",
            "37/37 [==============================] - 18s 486ms/step - loss: 1.6309 - accuracy: 0.2829 - val_loss: 1.7011 - val_accuracy: 0.2309\n",
            "Epoch 6/50\n",
            "37/37 [==============================] - 19s 502ms/step - loss: 1.5128 - accuracy: 0.3461 - val_loss: 1.4684 - val_accuracy: 0.3385\n",
            "Epoch 7/50\n",
            "37/37 [==============================] - 18s 492ms/step - loss: 1.3944 - accuracy: 0.3394 - val_loss: 1.2927 - val_accuracy: 0.4062\n",
            "Epoch 8/50\n",
            "37/37 [==============================] - 19s 503ms/step - loss: 1.2626 - accuracy: 0.4015 - val_loss: 1.3307 - val_accuracy: 0.3715\n",
            "Epoch 9/50\n",
            "37/37 [==============================] - 19s 500ms/step - loss: 1.1588 - accuracy: 0.4472 - val_loss: 1.1040 - val_accuracy: 0.4896\n",
            "Epoch 10/50\n",
            "37/37 [==============================] - 19s 509ms/step - loss: 1.1114 - accuracy: 0.4941 - val_loss: 1.0596 - val_accuracy: 0.5590\n",
            "Epoch 11/50\n",
            "37/37 [==============================] - 18s 496ms/step - loss: 0.9865 - accuracy: 0.5861 - val_loss: 0.9300 - val_accuracy: 0.5573\n",
            "Epoch 12/50\n",
            "37/37 [==============================] - 18s 495ms/step - loss: 0.9853 - accuracy: 0.5929 - val_loss: 0.8126 - val_accuracy: 0.7292\n",
            "Epoch 13/50\n",
            "37/37 [==============================] - 18s 498ms/step - loss: 0.7673 - accuracy: 0.6877 - val_loss: 0.6956 - val_accuracy: 0.7587\n",
            "Epoch 14/50\n",
            "37/37 [==============================] - 19s 501ms/step - loss: 0.7037 - accuracy: 0.7160 - val_loss: 0.7368 - val_accuracy: 0.7431\n",
            "Epoch 15/50\n",
            "37/37 [==============================] - 19s 502ms/step - loss: 0.6659 - accuracy: 0.7510 - val_loss: 0.5241 - val_accuracy: 0.7934\n",
            "Epoch 16/50\n",
            "37/37 [==============================] - 18s 498ms/step - loss: 0.6021 - accuracy: 0.7606 - val_loss: 0.4793 - val_accuracy: 0.8247\n",
            "Epoch 17/50\n",
            "37/37 [==============================] - 18s 499ms/step - loss: 0.5442 - accuracy: 0.7894 - val_loss: 0.6353 - val_accuracy: 0.7899\n",
            "Epoch 18/50\n",
            "37/37 [==============================] - 19s 505ms/step - loss: 0.4908 - accuracy: 0.8052 - val_loss: 0.3892 - val_accuracy: 0.8438\n",
            "Epoch 19/50\n",
            "37/37 [==============================] - 19s 509ms/step - loss: 0.4468 - accuracy: 0.8176 - val_loss: 0.4311 - val_accuracy: 0.8611\n",
            "Epoch 20/50\n",
            "37/37 [==============================] - 19s 511ms/step - loss: 0.4332 - accuracy: 0.8368 - val_loss: 0.5037 - val_accuracy: 0.8056\n",
            "Epoch 21/50\n",
            "37/37 [==============================] - 19s 510ms/step - loss: 0.4309 - accuracy: 0.8317 - val_loss: 0.3984 - val_accuracy: 0.8819\n",
            "Epoch 22/50\n",
            "37/37 [==============================] - 19s 515ms/step - loss: 0.3469 - accuracy: 0.8600 - val_loss: 0.2971 - val_accuracy: 0.8802\n",
            "Epoch 23/50\n",
            "37/37 [==============================] - 19s 514ms/step - loss: 0.3217 - accuracy: 0.8792 - val_loss: 0.3535 - val_accuracy: 0.9097\n",
            "Epoch 24/50\n",
            "37/37 [==============================] - 19s 512ms/step - loss: 0.3478 - accuracy: 0.8854 - val_loss: 0.2436 - val_accuracy: 0.9392\n",
            "Epoch 25/50\n",
            "37/37 [==============================] - 19s 514ms/step - loss: 0.3524 - accuracy: 0.8848 - val_loss: 0.1804 - val_accuracy: 0.9427\n",
            "Epoch 26/50\n",
            "37/37 [==============================] - 19s 519ms/step - loss: 0.2844 - accuracy: 0.9097 - val_loss: 0.2352 - val_accuracy: 0.9306\n",
            "Epoch 27/50\n",
            "37/37 [==============================] - 19s 519ms/step - loss: 0.2702 - accuracy: 0.9147 - val_loss: 0.2431 - val_accuracy: 0.9444\n",
            "Epoch 28/50\n",
            "37/37 [==============================] - 19s 525ms/step - loss: 0.2460 - accuracy: 0.9221 - val_loss: 0.2519 - val_accuracy: 0.9358\n",
            "Epoch 29/50\n",
            "37/37 [==============================] - 19s 499ms/step - loss: 0.2327 - accuracy: 0.9272 - val_loss: 0.1499 - val_accuracy: 0.9549\n",
            "Epoch 30/50\n",
            "37/37 [==============================] - 12s 317ms/step - loss: 0.1868 - accuracy: 0.9424 - val_loss: 0.1460 - val_accuracy: 0.9549\n",
            "Epoch 31/50\n",
            "37/37 [==============================] - 13s 358ms/step - loss: 0.1597 - accuracy: 0.9492 - val_loss: 0.1211 - val_accuracy: 0.9688\n",
            "Epoch 32/50\n",
            "37/37 [==============================] - 13s 356ms/step - loss: 0.1660 - accuracy: 0.9503 - val_loss: 0.2280 - val_accuracy: 0.9462\n",
            "Epoch 33/50\n",
            "37/37 [==============================] - 13s 355ms/step - loss: 0.1613 - accuracy: 0.9554 - val_loss: 0.0846 - val_accuracy: 0.9826\n",
            "Epoch 34/50\n",
            "37/37 [==============================] - 13s 356ms/step - loss: 0.1445 - accuracy: 0.9560 - val_loss: 0.0689 - val_accuracy: 0.9809\n",
            "Epoch 35/50\n",
            "37/37 [==============================] - 13s 360ms/step - loss: 0.1852 - accuracy: 0.9514 - val_loss: 0.1242 - val_accuracy: 0.9757\n",
            "Epoch 36/50\n",
            "37/37 [==============================] - 14s 369ms/step - loss: 0.1539 - accuracy: 0.9537 - val_loss: 0.0685 - val_accuracy: 0.9861\n",
            "Epoch 37/50\n",
            "37/37 [==============================] - 14s 367ms/step - loss: 0.1286 - accuracy: 0.9627 - val_loss: 0.1263 - val_accuracy: 0.9774\n",
            "Epoch 38/50\n",
            "37/37 [==============================] - 14s 367ms/step - loss: 0.1568 - accuracy: 0.9599 - val_loss: 0.0665 - val_accuracy: 0.9826\n",
            "Epoch 39/50\n",
            "37/37 [==============================] - 14s 372ms/step - loss: 0.0908 - accuracy: 0.9746 - val_loss: 0.1889 - val_accuracy: 0.9705\n",
            "Epoch 40/50\n",
            "37/37 [==============================] - 14s 374ms/step - loss: 0.1001 - accuracy: 0.9735 - val_loss: 0.1771 - val_accuracy: 0.9705\n",
            "Epoch 41/50\n",
            "37/37 [==============================] - 14s 374ms/step - loss: 0.1099 - accuracy: 0.9701 - val_loss: 0.0872 - val_accuracy: 0.9809\n",
            "Epoch 42/50\n",
            "37/37 [==============================] - 14s 376ms/step - loss: 0.0940 - accuracy: 0.9808 - val_loss: 0.0934 - val_accuracy: 0.9792\n",
            "Epoch 43/50\n",
            "37/37 [==============================] - 14s 381ms/step - loss: 0.1572 - accuracy: 0.9616 - val_loss: 0.0589 - val_accuracy: 0.9861\n",
            "Epoch 44/50\n",
            "37/37 [==============================] - 14s 384ms/step - loss: 0.1405 - accuracy: 0.9610 - val_loss: 0.0569 - val_accuracy: 0.9896\n",
            "Epoch 45/50\n",
            "37/37 [==============================] - 14s 387ms/step - loss: 0.1115 - accuracy: 0.9735 - val_loss: 0.0439 - val_accuracy: 0.9878\n",
            "Epoch 46/50\n",
            "37/37 [==============================] - 14s 391ms/step - loss: 0.0631 - accuracy: 0.9836 - val_loss: 0.0692 - val_accuracy: 0.9861\n",
            "Epoch 47/50\n",
            "37/37 [==============================] - 15s 393ms/step - loss: 0.0724 - accuracy: 0.9802 - val_loss: 0.1512 - val_accuracy: 0.9722\n",
            "Epoch 48/50\n",
            "37/37 [==============================] - 14s 389ms/step - loss: 0.0738 - accuracy: 0.9809 - val_loss: 0.0571 - val_accuracy: 0.9878\n",
            "Epoch 49/50\n",
            "37/37 [==============================] - 14s 387ms/step - loss: 0.0451 - accuracy: 0.9904 - val_loss: 0.0622 - val_accuracy: 0.9896\n",
            "Epoch 50/50\n",
            "37/37 [==============================] - 14s 391ms/step - loss: 0.1769 - accuracy: 0.9548 - val_loss: 0.1194 - val_accuracy: 0.9774\n"
          ]
        },
        {
          "data": {
            "text/plain": [
              "<keras.src.callbacks.History at 0x19a3b7c5990>"
            ]
          },
          "execution_count": 26,
          "metadata": {},
          "output_type": "execute_result"
        }
      ],
      "source": [
        "model.fit(\n",
        "    train_generator,\n",
        "    steps_per_epoch=train_generator.samples // batch_size,\n",
        "    epochs=50,\n",
        "    validation_data=validation_generator,\n",
        "    validation_steps=validation_generator.samples // batch_size,\n",
        "    callbacks=[tensorboard_callback]\n",
        ")"
      ]
    },
    {
      "cell_type": "code",
      "execution_count": 27,
      "metadata": {},
      "outputs": [
        {
          "name": "stdout",
          "output_type": "stream",
          "text": [
            "The tensorboard extension is already loaded. To reload it, use:\n",
            "  %reload_ext tensorboard\n"
          ]
        },
        {
          "data": {
            "text/plain": [
              "Reusing TensorBoard on port 6006 (pid 15992), started 7 days, 13:10:08 ago. (Use '!kill 15992' to kill it.)"
            ]
          },
          "metadata": {},
          "output_type": "display_data"
        },
        {
          "data": {
            "text/html": [
              "\n",
              "      <iframe id=\"tensorboard-frame-a9a259e07567035c\" width=\"100%\" height=\"800\" frameborder=\"0\">\n",
              "      </iframe>\n",
              "      <script>\n",
              "        (function() {\n",
              "          const frame = document.getElementById(\"tensorboard-frame-a9a259e07567035c\");\n",
              "          const url = new URL(\"http://localhost\");\n",
              "          const port = 6006;\n",
              "          if (port) {\n",
              "            url.port = port;\n",
              "          }\n",
              "          frame.src = url;\n",
              "        })();\n",
              "      </script>\n",
              "    "
            ],
            "text/plain": [
              "<IPython.core.display.HTML object>"
            ]
          },
          "metadata": {},
          "output_type": "display_data"
        }
      ],
      "source": [
        "%load_ext tensorboard\n",
        "%tensorboard --logdir Logs"
      ]
    },
    {
      "cell_type": "code",
      "execution_count": 28,
      "metadata": {},
      "outputs": [],
      "source": [
        "model_json = model.to_json()\n",
        "with open(\"D:/SLD/signlanguagedetectionmodel48x48.json\",'w') as json_file:\n",
        "    json_file.write(model_json)\n",
        "model.save(\"D:/SLD/signlanguagedetectionmodel48x48.h5\")"
      ]
    }
  ],
  "metadata": {
    "accelerator": "GPU",
    "colab": {
      "provenance": []
    },
    "kernelspec": {
      "display_name": "Python 3",
      "name": "python3"
    },
    "language_info": {
      "codemirror_mode": {
        "name": "ipython",
        "version": 3
      },
      "file_extension": ".py",
      "mimetype": "text/x-python",
      "name": "python",
      "nbconvert_exporter": "python",
      "pygments_lexer": "ipython3",
      "version": "3.11.4"
    }
  },
  "nbformat": 4,
  "nbformat_minor": 0
}
